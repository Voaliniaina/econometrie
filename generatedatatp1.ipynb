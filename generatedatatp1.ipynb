{
 "cells": [
  {
   "cell_type": "code",
   "execution_count": 1,
   "id": "f626eef9",
   "metadata": {},
   "outputs": [],
   "source": [
    "import numpy as np"
   ]
  },
  {
   "cell_type": "code",
   "execution_count": 2,
   "id": "055638ed",
   "metadata": {},
   "outputs": [],
   "source": [
    "import pandas as pd"
   ]
  },
  {
   "cell_type": "code",
   "execution_count": 3,
   "id": "478034bd",
   "metadata": {},
   "outputs": [],
   "source": [
    "np.random.seed(0)"
   ]
  },
  {
   "cell_type": "code",
   "execution_count": 4,
   "id": "42af5b9c",
   "metadata": {},
   "outputs": [],
   "source": [
    "x=np.linspace(0,100,100)"
   ]
  },
  {
   "cell_type": "code",
   "execution_count": 6,
   "id": "bd97762f",
   "metadata": {},
   "outputs": [],
   "source": [
    "y=3*x+np.random.normal(0,10,100)"
   ]
  },
  {
   "cell_type": "code",
   "execution_count": 7,
   "id": "9b2397ab",
   "metadata": {},
   "outputs": [],
   "source": [
    "data=pd.DataFrame(data={'x':x,'y':y})"
   ]
  },
  {
   "cell_type": "code",
   "execution_count": 8,
   "id": "43dfb13d",
   "metadata": {},
   "outputs": [
    {
     "name": "stdout",
     "output_type": "stream",
     "text": [
      "          x          y\n",
      "0  0.000000   4.001572\n",
      "1  1.010101  12.817683\n",
      "2  2.020202  28.469538\n",
      "3  3.030303  27.766489\n",
      "4  4.040404   2.348433\n"
     ]
    }
   ],
   "source": [
    "print(data.head())"
   ]
  },
  {
   "cell_type": "code",
   "execution_count": null,
   "id": "81010cb0",
   "metadata": {},
   "outputs": [],
   "source": []
  }
 ],
 "metadata": {
  "kernelspec": {
   "display_name": "Python 3 (ipykernel)",
   "language": "python",
   "name": "python3"
  },
  "language_info": {
   "codemirror_mode": {
    "name": "ipython",
    "version": 3
   },
   "file_extension": ".py",
   "mimetype": "text/x-python",
   "name": "python",
   "nbconvert_exporter": "python",
   "pygments_lexer": "ipython3",
   "version": "3.10.4"
  }
 },
 "nbformat": 4,
 "nbformat_minor": 5
}
